{
 "cells": [
  {
   "cell_type": "code",
   "execution_count": 1,
   "metadata": {},
   "outputs": [],
   "source": [
    "import pandas as pd\n",
    "import numpy as np\n",
    "\n",
    "modifiedCases_2020=pd.read_csv(\"COVID19 cases Toronto.csv\")"
   ]
  },
  {
   "cell_type": "code",
   "execution_count": 2,
   "metadata": {},
   "outputs": [
    {
     "data": {
      "text/plain": [
       "0        False\n",
       "1        False\n",
       "2        False\n",
       "3        False\n",
       "4        False\n",
       "         ...  \n",
       "14906    False\n",
       "14907    False\n",
       "14908    False\n",
       "14909    False\n",
       "14910    False\n",
       "Name: _id, Length: 14911, dtype: bool"
      ]
     },
     "execution_count": 2,
     "metadata": {},
     "output_type": "execute_result"
    }
   ],
   "source": [
    "modifiedCases_2020._id.duplicated()"
   ]
  },
  {
   "cell_type": "code",
   "execution_count": 3,
   "metadata": {},
   "outputs": [
    {
     "data": {
      "text/plain": [
       "(14911, 17)"
      ]
     },
     "execution_count": 3,
     "metadata": {},
     "output_type": "execute_result"
    }
   ],
   "source": [
    "modifiedCases_2020._id.duplicated().sum()\n",
    "modifiedCases_2020.duplicated()\n",
    "modifiedCases_2020.loc[modifiedCases_2020.duplicated(), :]\n",
    "\n"
   ]
  },
  {
   "cell_type": "code",
   "execution_count": 4,
   "metadata": {},
   "outputs": [
    {
     "data": {
      "text/html": [
       "<div>\n",
       "<style scoped>\n",
       "    .dataframe tbody tr th:only-of-type {\n",
       "        vertical-align: middle;\n",
       "    }\n",
       "\n",
       "    .dataframe tbody tr th {\n",
       "        vertical-align: top;\n",
       "    }\n",
       "\n",
       "    .dataframe thead th {\n",
       "        text-align: right;\n",
       "    }\n",
       "</style>\n",
       "<table border=\"1\" class=\"dataframe\">\n",
       "  <thead>\n",
       "    <tr style=\"text-align: right;\">\n",
       "      <th></th>\n",
       "      <th>_id</th>\n",
       "      <th>Outbreak Associated</th>\n",
       "      <th>Age Group</th>\n",
       "      <th>Neighbourhood Name</th>\n",
       "      <th>FSA</th>\n",
       "      <th>Source of Infection</th>\n",
       "      <th>Classification</th>\n",
       "      <th>Episode Date</th>\n",
       "      <th>Reported Date</th>\n",
       "      <th>Client Gender</th>\n",
       "      <th>Outcome</th>\n",
       "      <th>Currently Hospitalized</th>\n",
       "      <th>Currently in ICU</th>\n",
       "      <th>Currently Intubated</th>\n",
       "      <th>Ever Hospitalized</th>\n",
       "      <th>Ever in ICU</th>\n",
       "      <th>Ever Intubated</th>\n",
       "    </tr>\n",
       "  </thead>\n",
       "  <tbody>\n",
       "  </tbody>\n",
       "</table>\n",
       "</div>"
      ],
      "text/plain": [
       "Empty DataFrame\n",
       "Columns: [_id, Outbreak Associated, Age Group, Neighbourhood Name, FSA, Source of Infection, Classification, Episode Date, Reported Date, Client Gender, Outcome, Currently Hospitalized, Currently in ICU, Currently Intubated, Ever Hospitalized, Ever in ICU, Ever Intubated]\n",
       "Index: []"
      ]
     },
     "execution_count": 4,
     "metadata": {},
     "output_type": "execute_result"
    }
   ],
   "source": [
    "modifiedCases_2020.loc[modifiedCases_2020.duplicated(keep='first'), :]\n",
    "modifiedCases_2020.loc[modifiedCases_2020.duplicated(keep='last'), :]\n",
    "modifiedCases_2020.loc[modifiedCases_2020.duplicated(keep=False), :]"
   ]
  },
  {
   "cell_type": "code",
   "execution_count": 5,
   "metadata": {},
   "outputs": [
    {
     "data": {
      "text/plain": [
       "(14911, 17)"
      ]
     },
     "execution_count": 5,
     "metadata": {},
     "output_type": "execute_result"
    }
   ],
   "source": [
    "modifiedCases_2020.drop_duplicates(keep='first').shape\n",
    "modifiedCases_2020.drop_duplicates(keep='last').shape\n",
    "modifiedCases_2020.drop_duplicates(keep=False).shape"
   ]
  },
  {
   "cell_type": "code",
   "execution_count": null,
   "metadata": {},
   "outputs": [],
   "source": []
  }
 ],
 "metadata": {
  "kernelspec": {
   "display_name": "Python 3",
   "language": "python",
   "name": "python3"
  },
  "language_info": {
   "codemirror_mode": {
    "name": "ipython",
    "version": 3
   },
   "file_extension": ".py",
   "mimetype": "text/x-python",
   "name": "python",
   "nbconvert_exporter": "python",
   "pygments_lexer": "ipython3",
   "version": "3.8.3"
  }
 },
 "nbformat": 4,
 "nbformat_minor": 4
}
